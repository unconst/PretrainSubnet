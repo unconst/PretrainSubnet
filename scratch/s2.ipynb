{
 "cells": [
  {
   "cell_type": "code",
   "execution_count": 2,
   "metadata": {},
   "outputs": [],
   "source": [
    "import time\n",
    "import torch\n",
    "import compressors\n",
    "import torch.nn.functional as F"
   ]
  },
  {
   "cell_type": "code",
   "execution_count": 14,
   "metadata": {},
   "outputs": [],
   "source": []
  },
  {
   "cell_type": "code",
   "execution_count": 16,
   "metadata": {},
   "outputs": [
    {
     "name": "stdout",
     "output_type": "stream",
     "text": [
      "original size 40000\n",
      "grank_8:  0.001116037368774414 size 40000 dist 9.226079940795898 similarity 0.9876014590263367\n",
      "grank_4:  0.00018405914306640625 size 10000 dist 323.9773254394531 similarity 0.19805899262428284\n",
      "qsgdwec_8:  0.00022101402282714844 size 50000 dist 0.16051147878170013 similarity 0.9999961853027344\n",
      "qsgdwec_4:  0.00016117095947265625 size 20000 dist 13.487634658813477 similarity 0.9739315509796143\n",
      "qsgdwec_8_mod:  0.00021791458129882812 size 40000 dist 0.1611844152212143 similarity 0.9999961256980896\n",
      "qsgdwec_4_mod:  0.00015306472778320312 size 10000 dist 2.700674533843994 similarity 0.998921811580658\n",
      "qsgdwec_2_mod:  0.0002880096435546875 size 10000 dist 13.613450050354004 similarity 0.973444402217865\n",
      "terngrad:  0.00023508071899414062 size 20004 dist 40.81898498535156 similarity 0.8172917366027832\n",
      "terngradmod:  0.0001289844512939453 size 10004 dist 40.70539093017578 similarity 0.8204123377799988\n",
      "qsgdmax_8:  0.00018310546875 size 40000 dist 9.253512382507324 similarity 0.9875567555427551\n",
      "qsgdmax_4:  0.0001518726348876953 size 10000 dist 301.606201171875 similarity 0.18482773005962372\n",
      "nuq_8:  0.0010459423065185547 size 40004 dist 15.437379837036133 similarity 0.9664078950881958\n",
      "nuq_4:  0.00035309791564941406 size 10004 dist 269.7254333496094 similarity 0.21884487569332123\n",
      "nuq_max_4:  0.0005218982696533203 size 10000 dist 261.4104919433594 similarity 0.21205414831638336\n",
      "nuq_max_8:  0.0005640983581542969 size 40000 dist 15.101479530334473 similarity 0.9674850106239319\n",
      "qsgd:  0.041224002838134766 size 5104 dist 57.88337326049805 similarity 0.9852502942085266\n"
     ]
    }
   ],
   "source": [
    "grank_8 = compressors.GlobalRandKMaxNormCompressor('cpu', quantization_level = 8)\n",
    "grank_4 = compressors.GlobalRandKMaxNormCompressor('cpu', quantization_level = 2)\n",
    "qsgd = compressors.QSGDCompressor('cpu')\n",
    "qsgdwec_8 = compressors.QSGDWECCompressor('cpu', quantization_level = 8)\n",
    "qsgdwec_4 = compressors.QSGDWECCompressor('cpu', quantization_level = 2)\n",
    "qsgdwec_8_mod = compressors.QSGDWECModCompressor('cpu', quantization_level = 8)\n",
    "qsgdwec_4_mod = compressors.QSGDWECModCompressor('cpu', quantization_level = 4)\n",
    "qsgdwec_2_mod = compressors.QSGDWECModCompressor('cpu', quantization_level = 2)\n",
    "terngrad = compressors.TernGradCompressor('cpu')  \n",
    "terngradmod = compressors.TernGradModCompressor('cpu')\n",
    "qsgdmax_8 = compressors.QSGDMaxNormCompressor('cpu', quantization_level = 8)\n",
    "qsgdmax_4 = compressors.QSGDMaxNormCompressor('cpu', quantization_level = 2)\n",
    "nuq_4 = compressors.NUQSGDModCompressor('cpu', quantization_level = 2)\n",
    "nuq_8 = compressors.NUQSGDModCompressor('cpu', quantization_level = 8)\n",
    "nuq_max_4 = compressors.NUQSGDMaxNormCompressor('cpu', quantization_level = 2)\n",
    "nuq_max_8 = compressors.NUQSGDMaxNormCompressor('cpu', quantization_level = 8)\n",
    "\n",
    "size = 10000\n",
    "tensor = torch.rand( size )\n",
    "\n",
    "def bsize( t ): return t.numel() * t.element_size()\n",
    "\n",
    "print ('original size', bsize(tensor))\n",
    "\n",
    "start = time.time()\n",
    "comp = grank_8.compress( tensor = tensor, norm = tensor.norm() )\n",
    "decomp = grank_8.decompress( sign_xi_array = comp, norm = tensor.norm() )\n",
    "print( \"grank_8: \", time.time() - start, 'size', bsize(comp), 'dist', torch.dist(tensor, decomp, p=2).item(), 'similarity',  F.cosine_similarity(tensor.float(), decomp.float(), dim=0).item())\n",
    "\n",
    "start = time.time()\n",
    "comp = grank_4.compress( tensor = tensor, norm = tensor.norm() )\n",
    "decomp = grank_4.decompress( sign_xi_array = comp, norm = tensor.norm() )\n",
    "print( \"grank_4: \", time.time() - start, 'size', bsize(comp), 'dist', torch.dist(tensor, decomp, p=2).item(), 'similarity', F.cosine_similarity(tensor.float(), decomp.float(), dim=0).item())\n",
    "\n",
    "start = time.time()\n",
    "norm, sign_array, xi_array = qsgdwec_8.compress( tensor = tensor )\n",
    "decomp = qsgdwec_8.decompress( norm, sign_array, xi_array )\n",
    "print( \"qsgdwec_8: \", time.time() - start, 'size', bsize(sign_array) + bsize(xi_array), 'dist', torch.dist(tensor, decomp, p=2).item(), 'similarity', F.cosine_similarity(tensor.float(), decomp.float(), dim=0).item())\n",
    "\n",
    "start = time.time()\n",
    "norm, sign_array, xi_array = qsgdwec_4.compress( tensor = tensor )\n",
    "decomp = qsgdwec_4.decompress( norm, sign_array, xi_array )\n",
    "print( \"qsgdwec_4: \", time.time() - start, 'size',  bsize(sign_array) + bsize(xi_array), 'dist', torch.dist(tensor, decomp, p=2).item(), 'similarity', F.cosine_similarity(tensor.float(), decomp.float(), dim=0).item())\n",
    "\n",
    "start = time.time()\n",
    "norm, sign_xi_array = qsgdwec_8_mod.compress( tensor = tensor )\n",
    "decomp = qsgdwec_8_mod.decompress( norm, sign_xi_array )\n",
    "print( \"qsgdwec_8_mod: \", time.time() - start, 'size', bsize(sign_xi_array), 'dist', torch.dist(tensor, decomp, p=2).item(), 'similarity', F.cosine_similarity(tensor.float(), decomp.float(), dim=0).item())\n",
    "\n",
    "start = time.time()\n",
    "norm, sign_xi_array = qsgdwec_4_mod.compress( tensor = tensor )\n",
    "decomp = qsgdwec_4_mod.decompress( norm, sign_xi_array )\n",
    "print( \"qsgdwec_4_mod: \", time.time() - start, 'size', bsize(sign_xi_array), 'dist', torch.dist(tensor, decomp, p=2).item(), 'similarity', F.cosine_similarity(tensor.float(), decomp.float(), dim=0).item())\n",
    "\n",
    "start = time.time()\n",
    "norm, sign_xi_array = qsgdwec_2_mod.compress( tensor = tensor )\n",
    "decomp = qsgdwec_2_mod.decompress( norm, sign_xi_array )\n",
    "print( \"qsgdwec_2_mod: \", time.time() - start, 'size', bsize(sign_xi_array), 'dist', torch.dist(tensor, decomp, p=2).item(), 'similarity', F.cosine_similarity(tensor.float(), decomp.float(), dim=0).item())\n",
    "\n",
    "start = time.time()\n",
    "scaler, sign_array, b_array= terngrad.compress( tensor = tensor )\n",
    "decomp = terngrad.decompress( scaler, sign_array, b_array )\n",
    "csize = bsize(scaler) + bsize(sign_array) + bsize(b_array)\n",
    "print( \"terngrad: \", time.time() - start, 'size', csize, 'dist', torch.dist(tensor, decomp, p=2).item(), 'similarity', F.cosine_similarity(tensor.float(), decomp.float(), dim=0).item())\n",
    "\n",
    "start = time.time()\n",
    "scaler, sign_b_array =  terngradmod.compress( tensor = tensor )\n",
    "decomp = terngradmod.decompress( scaler, sign_b_array)\n",
    "csize = bsize(scaler) + bsize(sign_b_array) \n",
    "print( \"terngradmod: \", time.time() - start, 'size', csize, 'dist', torch.dist(tensor, decomp, p=2).item(), 'similarity', F.cosine_similarity(tensor.float(), decomp.float(), dim=0).item())\n",
    "\n",
    "start = time.time()\n",
    "sign_xi_array = qsgdmax_8.compress( tensor = tensor, norm = tensor.norm() )\n",
    "decomp = qsgdmax_8.decompress( norm = tensor.norm(), sign_xi_array = sign_xi_array)\n",
    "csize = bsize(sign_xi_array)\n",
    "print( \"qsgdmax_8: \", time.time() - start, 'size', csize, 'dist', torch.dist(tensor, decomp, p=2).item(), 'similarity', F.cosine_similarity(tensor.float(), decomp.float(), dim=0).item())\n",
    "\n",
    "start = time.time()\n",
    "sign_xi_array = qsgdmax_4.compress( tensor = tensor, norm = tensor.norm() )\n",
    "decomp = qsgdmax_4.decompress( norm = tensor.norm(), sign_xi_array = sign_xi_array)\n",
    "csize = bsize(sign_xi_array)\n",
    "print( \"qsgdmax_4: \", time.time() - start, 'size', csize, 'dist', torch.dist(tensor, decomp, p=2).item(), 'similarity', F.cosine_similarity(tensor.float(), decomp.float(), dim=0).item())\n",
    "\n",
    "start = time.time()\n",
    "norm, sign_h_array = nuq_8.compress( tensor = tensor )\n",
    "decomp = nuq_8.decompress( norm, sign_h_array )\n",
    "csize = bsize(norm) + bsize(sign_h_array)\n",
    "print( \"nuq_8: \", time.time() - start, 'size', csize, 'dist', torch.dist(tensor, decomp, p=2).item(), 'similarity', F.cosine_similarity(tensor.float(), decomp.float(), dim=0).item())\n",
    "\n",
    "start = time.time()\n",
    "norm, sign_h_array = nuq_4.compress( tensor = tensor )\n",
    "decomp = nuq_4.decompress( norm, sign_h_array )\n",
    "csize = bsize(norm) + bsize(sign_h_array)\n",
    "print( \"nuq_4: \", time.time() - start, 'size', csize, 'dist', torch.dist(tensor, decomp, p=2).item(), 'similarity', F.cosine_similarity(tensor.float(), decomp.float(), dim=0).item())\n",
    "\n",
    "start = time.time()\n",
    "sign_h_array = nuq_max_4.compress( tensor = tensor, norm = tensor.norm() )\n",
    "decomp = nuq_max_4.decompress( norm = tensor.norm(), sign_h_array = sign_h_array)\n",
    "csize = bsize(sign_h_array)\n",
    "print( \"nuq_max_4: \", time.time() - start, 'size', csize, 'dist', torch.dist(tensor, decomp, p=2).item(), 'similarity', F.cosine_similarity(tensor.float(), decomp.float(), dim=0).item())\n",
    "\n",
    "start = time.time()\n",
    "sign_h_array = nuq_max_8.compress( tensor = tensor, norm = tensor.norm() )\n",
    "decomp = nuq_max_8.decompress( norm = tensor.norm(), sign_h_array = sign_h_array )\n",
    "csize = bsize(sign_h_array)\n",
    "print( \"nuq_max_8: \", time.time() - start, 'size', csize, 'dist', torch.dist(tensor, decomp, p=2).item(), 'similarity', F.cosine_similarity(tensor.float(), decomp.float(), dim=0).item())\n",
    "\n",
    "start = time.time()\n",
    "comp, size = qsgd.compress( tensor = tensor )\n",
    "decomp = qsgd.decompress( compressed_tensor = comp, compressed_tensor_size = size )\n",
    "print( \"qsgd: \", time.time() - start, 'size', bsize(comp) + bsize(size), 'dist', torch.dist(tensor, decomp, p=2).item(), 'similarity', F.cosine_similarity(tensor.float(), decomp.float(), dim=0).item())"
   ]
  },
  {
   "cell_type": "code",
   "execution_count": 15,
   "metadata": {},
   "outputs": [
    {
     "name": "stdout",
     "output_type": "stream",
     "text": [
      "original size 40000\n",
      "qsgdwec_2_mod:  0.0005919933319091797 size 40000 dist 0.1591997593641281 similarity 0.9999962449073792\n"
     ]
    }
   ],
   "source": [
    "\n",
    "size = 10000\n",
    "tensor = torch.rand( size )\n",
    "def bsize( t ): return t.numel() * t.element_size()\n",
    "print ('original size', bsize(tensor))\n",
    "qsgdwec_2_mod = compressors.QSGDWECModCompressor('cpu', quantization_level = 8)\n",
    "start = time.time()\n",
    "norm, sign_xi_array = qsgdwec_2_mod.compress( tensor = tensor )\n",
    "decomp = qsgdwec_2_mod.decompress( norm, sign_xi_array )\n",
    "print( \"qsgdwec_2_mod: \", time.time() - start, 'size', bsize(sign_xi_array), 'dist', torch.dist(tensor, decomp, p=2).item(), 'similarity', F.cosine_similarity(tensor.float(), decomp.float(), dim=0).item())\n"
   ]
  },
  {
   "cell_type": "code",
   "execution_count": 49,
   "metadata": {},
   "outputs": [
    {
     "data": {
      "text/plain": [
       "torch.int8"
      ]
     },
     "execution_count": 49,
     "metadata": {},
     "output_type": "execute_result"
    }
   ],
   "source": [
    "sign_array.dtype"
   ]
  },
  {
   "cell_type": "code",
   "execution_count": null,
   "metadata": {},
   "outputs": [],
   "source": []
  }
 ],
 "metadata": {
  "kernelspec": {
   "display_name": "311",
   "language": "python",
   "name": "python3"
  },
  "language_info": {
   "codemirror_mode": {
    "name": "ipython",
    "version": 3
   },
   "file_extension": ".py",
   "mimetype": "text/x-python",
   "name": "python",
   "nbconvert_exporter": "python",
   "pygments_lexer": "ipython3",
   "version": "3.11.3"
  },
  "orig_nbformat": 4
 },
 "nbformat": 4,
 "nbformat_minor": 2
}
