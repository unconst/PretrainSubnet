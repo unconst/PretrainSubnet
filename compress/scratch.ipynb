{
 "cells": [
  {
   "cell_type": "code",
   "execution_count": 1,
   "metadata": {},
   "outputs": [
    {
     "data": {
      "text/plain": [
       "tensor([[-1.6805,  0.2369,  0.7684, -2.2282],\n",
       "        [ 1.4615, -0.4831,  0.0938,  0.1987],\n",
       "        [-1.0427,  1.6203, -0.5733, -0.4732],\n",
       "        [-0.1723, -0.1306, -0.5915, -0.4525],\n",
       "        [ 1.1613,  2.0421, -1.0158,  1.0016],\n",
       "        [-0.6878,  0.3237,  0.4218, -0.9456],\n",
       "        [ 0.4310,  0.7572,  0.7571,  0.4047],\n",
       "        [ 1.5026, -1.7632,  1.1393, -0.7444]])"
      ]
     },
     "execution_count": 1,
     "metadata": {},
     "output_type": "execute_result"
    }
   ],
   "source": [
    "from sparification import *\n",
    "from fixpoint import *\n",
    "\n",
    "x = torch.randn(8, 4)\n",
    "x"
   ]
  },
  {
   "cell_type": "code",
   "execution_count": 2,
   "metadata": {},
   "outputs": [
    {
     "name": "stdout",
     "output_type": "stream",
     "text": [
      "Original Tensor:\n",
      "tensor([[-1.6805,  0.2369,  0.7684, -2.2282],\n",
      "        [ 1.4615, -0.4831,  0.0938,  0.1987],\n",
      "        [-1.0427,  1.6203, -0.5733, -0.4732],\n",
      "        [-0.1723, -0.1306, -0.5915, -0.4525],\n",
      "        [ 1.1613,  2.0421, -1.0158,  1.0016],\n",
      "        [-0.6878,  0.3237,  0.4218, -0.9456],\n",
      "        [ 0.4310,  0.7572,  0.7571,  0.4047],\n",
      "        [ 1.5026, -1.7632,  1.1393, -0.7444]])\n",
      "\n",
      "Values from topr function:\n",
      "tensor([-1.6805,  0.7684, -2.2282,  1.4615, -1.0427,  1.6203,  1.1613,  2.0421,\n",
      "        -1.0158,  1.0016, -0.9456,  0.7572,  0.7571,  1.5026, -1.7632,  1.1393])\n",
      "\n",
      "Masks from topr function:\n",
      "tensor([[1, 0, 1, 1],\n",
      "        [1, 0, 0, 0],\n",
      "        [1, 1, 0, 0],\n",
      "        [0, 0, 0, 0],\n",
      "        [1, 1, 1, 1],\n",
      "        [0, 0, 0, 1],\n",
      "        [0, 1, 1, 0],\n",
      "        [1, 1, 1, 0]], dtype=torch.uint8)\n"
     ]
    }
   ],
   "source": [
    "values, masks = topr(x, 0.5)\n",
    "print(\"Original Tensor:\")\n",
    "print(x)\n",
    "print(\"\\nValues from topr function:\")\n",
    "print(values)\n",
    "print(\"\\nMasks from topr function:\")\n",
    "print(masks)\n"
   ]
  },
  {
   "cell_type": "code",
   "execution_count": 3,
   "metadata": {},
   "outputs": [
    {
     "name": "stdout",
     "output_type": "stream",
     "text": [
      "Original Tensor:\n",
      "tensor([[-1.6805,  0.2369,  0.7684, -2.2282],\n",
      "        [ 1.4615, -0.4831,  0.0938,  0.1987],\n",
      "        [-1.0427,  1.6203, -0.5733, -0.4732],\n",
      "        [-0.1723, -0.1306, -0.5915, -0.4525],\n",
      "        [ 1.1613,  2.0421, -1.0158,  1.0016],\n",
      "        [-0.6878,  0.3237,  0.4218, -0.9456],\n",
      "        [ 0.4310,  0.7572,  0.7571,  0.4047],\n",
      "        [ 1.5026, -1.7632,  1.1393, -0.7444]])\n",
      "\n",
      "Values from topk function:\n",
      "tensor([-2.2282,  2.0421])\n",
      "\n",
      "Masks from topk function:\n",
      "tensor([[0, 0, 0, 1],\n",
      "        [0, 0, 0, 0],\n",
      "        [0, 0, 0, 0],\n",
      "        [0, 0, 0, 0],\n",
      "        [0, 1, 0, 0],\n",
      "        [0, 0, 0, 0],\n",
      "        [0, 0, 0, 0],\n",
      "        [0, 0, 0, 0]], dtype=torch.uint8)\n"
     ]
    }
   ],
   "source": [
    "values, masks = topk(x, 2)\n",
    "print(\"Original Tensor:\")\n",
    "print(x)\n",
    "print(\"\\nValues from topk function:\")\n",
    "print(values)\n",
    "print(\"\\nMasks from topk function:\")\n",
    "print(masks)\n"
   ]
  },
  {
   "cell_type": "code",
   "execution_count": 4,
   "metadata": {},
   "outputs": [
    {
     "name": "stdout",
     "output_type": "stream",
     "text": [
      "Original Tensor:\n",
      "tensor([[-1.6805,  0.2369,  0.7684, -2.2282],\n",
      "        [ 1.4615, -0.4831,  0.0938,  0.1987],\n",
      "        [-1.0427,  1.6203, -0.5733, -0.4732],\n",
      "        [-0.1723, -0.1306, -0.5915, -0.4525],\n",
      "        [ 1.1613,  2.0421, -1.0158,  1.0016],\n",
      "        [-0.6878,  0.3237,  0.4218, -0.9456],\n",
      "        [ 0.4310,  0.7572,  0.7571,  0.4047],\n",
      "        [ 1.5026, -1.7632,  1.1393, -0.7444]])\n",
      "\n",
      "Values from compress_topr function:\n",
      "tensor([-1.6805,  0.7684, -2.2282,  1.4615, -1.0427,  1.6203,  1.1613,  2.0421,\n",
      "        -1.0158,  1.0016, -0.9456,  0.7572,  0.7571,  1.5026, -1.7632,  1.1393])\n",
      "\n",
      "Masks from compress_topr function:\n",
      "tensor([184, 192, 241, 110], dtype=torch.uint8)\n"
     ]
    }
   ],
   "source": [
    "values, masks = compress_topr(x, 0.5)\n",
    "print(\"Original Tensor:\")\n",
    "print(x)\n",
    "print(\"\\nValues from compress_topr function:\")\n",
    "print(values)\n",
    "print(\"\\nMasks from compress_topr function:\")\n",
    "print(masks)\n"
   ]
  },
  {
   "cell_type": "code",
   "execution_count": 5,
   "metadata": {},
   "outputs": [
    {
     "name": "stdout",
     "output_type": "stream",
     "text": [
      "Original Tensor:\n",
      "tensor([[-1.6805,  0.2369,  0.7684, -2.2282],\n",
      "        [ 1.4615, -0.4831,  0.0938,  0.1987],\n",
      "        [-1.0427,  1.6203, -0.5733, -0.4732],\n",
      "        [-0.1723, -0.1306, -0.5915, -0.4525],\n",
      "        [ 1.1613,  2.0421, -1.0158,  1.0016],\n",
      "        [-0.6878,  0.3237,  0.4218, -0.9456],\n",
      "        [ 0.4310,  0.7572,  0.7571,  0.4047],\n",
      "        [ 1.5026, -1.7632,  1.1393, -0.7444]])\n",
      "\n",
      "Values from compress_topk function:\n",
      "tensor([-2.2282,  2.0421])\n",
      "\n",
      "Masks from compress_topk function:\n",
      "tensor([16,  0, 64,  0], dtype=torch.uint8)\n"
     ]
    }
   ],
   "source": [
    "values, masks = compress_topk(x, 2)\n",
    "print(\"Original Tensor:\")\n",
    "print(x)\n",
    "print(\"\\nValues from compress_topk function:\")\n",
    "print(values)\n",
    "print(\"\\nMasks from compress_topk function:\")\n",
    "print(masks)\n"
   ]
  },
  {
   "cell_type": "code",
   "execution_count": 6,
   "metadata": {},
   "outputs": [
    {
     "name": "stdout",
     "output_type": "stream",
     "text": [
      "Original Tensor:\n",
      "tensor([[-1.6805,  0.2369,  0.7684, -2.2282],\n",
      "        [ 1.4615, -0.4831,  0.0938,  0.1987],\n",
      "        [-1.0427,  1.6203, -0.5733, -0.4732],\n",
      "        [-0.1723, -0.1306, -0.5915, -0.4525],\n",
      "        [ 1.1613,  2.0421, -1.0158,  1.0016],\n",
      "        [-0.6878,  0.3237,  0.4218, -0.9456],\n",
      "        [ 0.4310,  0.7572,  0.7571,  0.4047],\n",
      "        [ 1.5026, -1.7632,  1.1393, -0.7444]])\n",
      "\n",
      "Decompressed Tensor:\n",
      "tensor([ 0.0000,  0.0000,  0.0000, -2.2282,  0.0000,  0.0000,  0.0000,  0.0000,\n",
      "         0.0000,  0.0000,  0.0000,  0.0000,  0.0000,  0.0000,  0.0000,  0.0000,\n",
      "         0.0000,  2.0421,  0.0000,  0.0000,  0.0000,  0.0000,  0.0000,  0.0000,\n",
      "         0.0000,  0.0000,  0.0000,  0.0000,  0.0000,  0.0000,  0.0000,  0.0000])\n"
     ]
    }
   ],
   "source": [
    "values, masks = compress_topk(x, 2)\n",
    "decompressed_x = decompress_topk(values, masks, x.shape)\n",
    "print(\"Original Tensor:\")\n",
    "print(x)\n",
    "print(\"\\nDecompressed Tensor:\")\n",
    "print(decompressed_x)"
   ]
  },
  {
   "cell_type": "code",
   "execution_count": 7,
   "metadata": {},
   "outputs": [
    {
     "name": "stdout",
     "output_type": "stream",
     "text": [
      "Original Tensor:\n",
      "tensor([[-1.6805,  0.2369,  0.7684, -2.2282],\n",
      "        [ 1.4615, -0.4831,  0.0938,  0.1987],\n",
      "        [-1.0427,  1.6203, -0.5733, -0.4732],\n",
      "        [-0.1723, -0.1306, -0.5915, -0.4525],\n",
      "        [ 1.1613,  2.0421, -1.0158,  1.0016],\n",
      "        [-0.6878,  0.3237,  0.4218, -0.9456],\n",
      "        [ 0.4310,  0.7572,  0.7571,  0.4047],\n",
      "        [ 1.5026, -1.7632,  1.1393, -0.7444]])\n",
      "\n",
      "Decompressed Tensor:\n",
      "tensor([[ 0.0000,  0.0000,  0.0000, -2.2282],\n",
      "        [ 0.0000,  0.0000,  0.0000,  0.0000],\n",
      "        [ 0.0000,  0.0000,  0.0000,  0.0000],\n",
      "        [ 0.0000,  0.0000,  0.0000,  0.0000],\n",
      "        [ 0.0000,  2.0421,  0.0000,  0.0000],\n",
      "        [ 0.0000,  0.0000,  0.0000,  0.0000],\n",
      "        [ 0.0000,  0.0000,  0.0000,  0.0000],\n",
      "        [ 0.0000,  0.0000,  0.0000,  0.0000]])\n"
     ]
    }
   ],
   "source": [
    "values, masks = compress_topk(x, 2)\n",
    "decompressed_x = decompress_topk2(values, masks, x.shape)\n",
    "print(\"Original Tensor:\")\n",
    "print(x)\n",
    "print(\"\\nDecompressed Tensor:\")\n",
    "print(decompressed_x)"
   ]
  },
  {
   "cell_type": "code",
   "execution_count": 8,
   "metadata": {},
   "outputs": [
    {
     "name": "stdout",
     "output_type": "stream",
     "text": [
      "Original Tensor:\n",
      "tensor([[-1.6805,  0.2369,  0.7684, -2.2282],\n",
      "        [ 1.4615, -0.4831,  0.0938,  0.1987],\n",
      "        [-1.0427,  1.6203, -0.5733, -0.4732],\n",
      "        [-0.1723, -0.1306, -0.5915, -0.4525],\n",
      "        [ 1.1613,  2.0421, -1.0158,  1.0016],\n",
      "        [-0.6878,  0.3237,  0.4218, -0.9456],\n",
      "        [ 0.4310,  0.7572,  0.7571,  0.4047],\n",
      "        [ 1.5026, -1.7632,  1.1393, -0.7444]])\n",
      "\n",
      "Decompressed Tensor:\n",
      "tensor([[-1.6805,  0.0000,  0.7684, -2.2282],\n",
      "        [ 1.4615,  0.0000,  0.0000,  0.0000],\n",
      "        [-1.0427,  1.6203,  0.0000,  0.0000],\n",
      "        [ 0.0000,  0.0000,  0.0000,  0.0000],\n",
      "        [ 1.1613,  2.0421, -1.0158,  1.0016],\n",
      "        [ 0.0000,  0.0000,  0.0000, -0.9456],\n",
      "        [ 0.0000,  0.7572,  0.7571,  0.0000],\n",
      "        [ 1.5026, -1.7632,  1.1393,  0.0000]])\n"
     ]
    }
   ],
   "source": [
    "values, masks = compress_topr(x, 0.5)\n",
    "decompressed_x = decompress_topr(values, masks, x.shape)\n",
    "print(\"Original Tensor:\")\n",
    "print(x)\n",
    "print(\"\\nDecompressed Tensor:\")\n",
    "print(decompressed_x)"
   ]
  }
 ],
 "metadata": {
  "kernelspec": {
   "display_name": "py310",
   "language": "python",
   "name": "python3"
  },
  "language_info": {
   "codemirror_mode": {
    "name": "ipython",
    "version": 3
   },
   "file_extension": ".py",
   "mimetype": "text/x-python",
   "name": "python",
   "nbconvert_exporter": "python",
   "pygments_lexer": "ipython3",
   "version": "3.10.12"
  },
  "orig_nbformat": 4
 },
 "nbformat": 4,
 "nbformat_minor": 2
}
